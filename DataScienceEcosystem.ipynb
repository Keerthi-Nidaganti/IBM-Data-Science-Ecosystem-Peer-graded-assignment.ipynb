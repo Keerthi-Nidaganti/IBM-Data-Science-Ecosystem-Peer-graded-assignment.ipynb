{
 "cells": [
  {
   "cell_type": "markdown",
   "id": "77de4956-39c9-4e51-b5fd-e6265e0c5091",
   "metadata": {},
   "source": [
    "# Data Science Tools and Ecosystem"
   ]
  },
  {
   "cell_type": "markdown",
   "id": "ecd200f1-5d2f-41db-b76a-ee81d68aec4a",
   "metadata": {},
   "source": [
    "In this notebook, Data Science Tools and Ecosystem are summarized."
   ]
  },
  {
   "cell_type": "markdown",
   "id": "27b5e031-3df2-4857-9bb0-13a7a2bf56e3",
   "metadata": {},
   "source": [
    "**Objectives:**\n",
    "- List popular languages that Data Scientists use.\n",
    "- List commonly used libraries used by Data Scientists.\n",
    "- Comment on Data Science tools."
   ]
  },
  {
   "cell_type": "markdown",
   "id": "e3131ab0-dc25-4604-b26f-fb114b289457",
   "metadata": {},
   "source": [
    "Some of the popular languages that Data Scientists use are:\n",
    "1. Python\n",
    "2. R\n",
    "3. SQL\n",
    "4. Java\n",
    "5. C/C++\n",
    "6. JavaSc"
   ]
  },
  {
   "cell_type": "markdown",
   "id": "fc7d41f3-e669-4a86-9573-f6d4693dd488",
   "metadata": {},
   "source": [
    "Some of the commonly used libraries used by Data Scientists include:\n",
    "1. Pandas\n",
    "2. Numpy\n",
    "3. Matplotlib\n",
    "4. Keras\n",
    "5. Scikit-learn\n",
    "6. Tensorflow\n",
    "7. PyTorch\n",
    "8. Seaborn\n"
   ]
  },
  {
   "cell_type": "markdown",
   "id": "e3f5d6ec-7e2c-4fbb-adf3-317985d406f4",
   "metadata": {},
   "source": [
    "|Data Science Tools|\n",
    "---------------------\n",
    "|Apache Hadoop|\n",
    "|Anaconda|\n",
    "|Juputer Notebook|\n",
    "|BigML|\n",
    "|Apache Spark|\n",
    "|R Studio|\n",
    "\n"
   ]
  },
  {
   "cell_type": "markdown",
   "id": "cf03bf75-3fb4-402f-a7d3-b90877e653b9",
   "metadata": {},
   "source": [
    "#  Below are a few examples of evaluating arithmetic expressions in Python:"
   ]
  },
  {
   "cell_type": "code",
   "execution_count": 5,
   "id": "4b7d35c9-8be8-4689-b739-fab8dcf424fd",
   "metadata": {},
   "outputs": [
    {
     "name": "stdout",
     "output_type": "stream",
     "text": [
      "16.3\n"
     ]
    }
   ],
   "source": [
    "# Constant Expressions\n",
    "x = 15 + 1.3\n",
    "\n",
    "print(x)"
   ]
  },
  {
   "cell_type": "code",
   "execution_count": 6,
   "id": "ef1bff06-132e-4c0a-a35a-805657982865",
   "metadata": {},
   "outputs": [
    {
     "name": "stdout",
     "output_type": "stream",
     "text": [
      "52\n",
      "28\n",
      "480\n",
      "3.3333333333333335\n"
     ]
    }
   ],
   "source": [
    "# Arithmetic Expressions \n",
    "x = 40\n",
    "y = 12\n",
    "\n",
    "add = x + y \n",
    "sub = x - y \n",
    "pro = x * y \n",
    "div = x / y \n",
    "\n",
    "print(add) \n",
    "print(sub) \n",
    "print(pro) \n",
    "print(div)"
   ]
  },
  {
   "cell_type": "markdown",
   "id": "6e224685-fbd0-4778-b898-12a80855681d",
   "metadata": {},
   "source": [
    "#This a simple arithmetic expression to multiply then add integers"
   ]
  },
  {
   "cell_type": "code",
   "execution_count": 7,
   "id": "da8094e2-c323-41e0-8f66-0b3263fd7c6b",
   "metadata": {
    "scrolled": true
   },
   "outputs": [
    {
     "data": {
      "text/plain": [
       "17"
      ]
     },
     "execution_count": 7,
     "metadata": {},
     "output_type": "execute_result"
    }
   ],
   "source": [
    "(3*4)+5\n",
    "# Result 17"
   ]
  },
  {
   "cell_type": "markdown",
   "id": "747453c1-488e-4b64-ad6f-6c9e40791afc",
   "metadata": {},
   "source": [
    "#This will convert 200 minutes to hours by diving by 60"
   ]
  },
  {
   "cell_type": "code",
   "execution_count": 8,
   "id": "2c435fee-d35d-418f-87da-006887f7f1d7",
   "metadata": {},
   "outputs": [
    {
     "data": {
      "text/plain": [
       "3.3333333333333335"
      ]
     },
     "execution_count": 8,
     "metadata": {},
     "output_type": "execute_result"
    }
   ],
   "source": [
    "200/60\n",
    "# Result 3.3333333333333335"
   ]
  },
  {
   "cell_type": "markdown",
   "id": "99e3db65-24f7-47b4-9dcb-3686cbf76f55",
   "metadata": {},
   "source": [
    "# Author"
   ]
  },
  {
   "cell_type": "markdown",
   "id": "c1a8d819-0aae-40ae-9916-c56c0e759661",
   "metadata": {},
   "source": [
    "Keerthi Nidaganti"
   ]
  },
  {
   "cell_type": "code",
   "execution_count": null,
   "id": "4518d1d7-e8cd-4cfc-b007-42de7b6bb0c0",
   "metadata": {},
   "outputs": [],
   "source": []
  }
 ],
 "metadata": {
  "kernelspec": {
   "display_name": "Python 3 (ipykernel)",
   "language": "python",
   "name": "python3"
  },
  "language_info": {
   "codemirror_mode": {
    "name": "ipython",
    "version": 3
   },
   "file_extension": ".py",
   "mimetype": "text/x-python",
   "name": "python",
   "nbconvert_exporter": "python",
   "pygments_lexer": "ipython3",
   "version": "3.11.9"
  }
 },
 "nbformat": 4,
 "nbformat_minor": 5
}
